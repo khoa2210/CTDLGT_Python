{
  "nbformat": 4,
  "nbformat_minor": 0,
  "metadata": {
    "colab": {
      "name": "BT14_SapXepChon.ipynb",
      "provenance": [],
      "authorship_tag": "ABX9TyMy9OcTcVZKKhp3ZtUOv8nq",
      "include_colab_link": true
    },
    "kernelspec": {
      "name": "python3",
      "display_name": "Python 3"
    },
    "language_info": {
      "name": "python"
    }
  },
  "cells": [
    {
      "cell_type": "markdown",
      "metadata": {
        "id": "view-in-github",
        "colab_type": "text"
      },
      "source": [
        "<a href=\"https://colab.research.google.com/github/khoa2210/CTDLGT_Python/blob/main/BT14_SapXepChon.ipynb\" target=\"_parent\"><img src=\"https://colab.research.google.com/assets/colab-badge.svg\" alt=\"Open In Colab\"/></a>"
      ]
    },
    {
      "cell_type": "code",
      "metadata": {
        "colab": {
          "base_uri": "https://localhost:8080/"
        },
        "id": "0ZhFTMXnWTad",
        "outputId": "2bae1ac8-2efb-42f9-b762-93d810a8ddba"
      },
      "source": [
        "def selection_sort(input_list):\n",
        "\n",
        "    for idx in range(len(input_list)):\n",
        "\n",
        "        min_idx = idx\n",
        "        for j in range( idx +1, len(input_list)):\n",
        "            if input_list[min_idx] > input_list[j]:\n",
        "                min_idx = j\n",
        "# Swap the minimum value with the compared value\n",
        "\n",
        "        input_list[idx], input_list[min_idx] = input_list[min_idx], input_list[idx]\n",
        "\n",
        "\n",
        "l = [19,2,31,45,30,11,121,27]\n",
        "selection_sort(l)\n",
        "print(l)"
      ],
      "execution_count": 46,
      "outputs": [
        {
          "output_type": "stream",
          "text": [
            "[2, 11, 19, 27, 30, 31, 45, 121]\n"
          ],
          "name": "stdout"
        }
      ]
    }
  ]
}