{
  "nbformat": 4,
  "nbformat_minor": 0,
  "metadata": {
    "colab": {
      "name": "BT16_SapXepNoiBot.ipynb",
      "provenance": [],
      "authorship_tag": "ABX9TyNZox8fzpsMfDmmdR5IuQHK",
      "include_colab_link": true
    },
    "kernelspec": {
      "name": "python3",
      "display_name": "Python 3"
    },
    "language_info": {
      "name": "python"
    }
  },
  "cells": [
    {
      "cell_type": "markdown",
      "metadata": {
        "id": "view-in-github",
        "colab_type": "text"
      },
      "source": [
        "<a href=\"https://colab.research.google.com/github/khoa2210/CTDLGT_Python/blob/main/BT16_SapXepNoiBot.ipynb\" target=\"_parent\"><img src=\"https://colab.research.google.com/assets/colab-badge.svg\" alt=\"Open In Colab\"/></a>"
      ]
    },
    {
      "cell_type": "code",
      "metadata": {
        "colab": {
          "base_uri": "https://localhost:8080/"
        },
        "id": "0ZhFTMXnWTad",
        "outputId": "d89b70e5-5876-4e42-bda9-d31973dada01"
      },
      "source": [
        "def bubblesort(list):\n",
        "\n",
        "# Swap the elements to arrange in order\n",
        "    for iter_num in range(len(list)-1,0,-1):\n",
        "        for idx in range(iter_num):\n",
        "            if list[idx]>list[idx+1]:\n",
        "                temp = list[idx]\n",
        "                list[idx] = list[idx+1]\n",
        "                list[idx+1] = temp\n",
        "\n",
        "\n",
        "list = [19,2,31,45,6,11,121,27]\n",
        "bubblesort(list)\n",
        "print(list)"
      ],
      "execution_count": 49,
      "outputs": [
        {
          "output_type": "stream",
          "text": [
            "[2, 6, 11, 19, 27, 31, 45, 121]\n"
          ],
          "name": "stdout"
        }
      ]
    }
  ]
}