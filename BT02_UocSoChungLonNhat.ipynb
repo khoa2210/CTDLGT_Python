{
  "nbformat": 4,
  "nbformat_minor": 0,
  "metadata": {
    "colab": {
      "name": "BT02_UocSoChungLonNhat.ipynb",
      "provenance": [],
      "authorship_tag": "ABX9TyOpDtcNTKRl/bLub9wKtjTY",
      "include_colab_link": true
    },
    "kernelspec": {
      "name": "python3",
      "display_name": "Python 3"
    },
    "language_info": {
      "name": "python"
    }
  },
  "cells": [
    {
      "cell_type": "markdown",
      "metadata": {
        "id": "view-in-github",
        "colab_type": "text"
      },
      "source": [
        "<a href=\"https://colab.research.google.com/github/khoa2210/CTDLGT_Python/blob/main/BT02_UocSoChungLonNhat.ipynb\" target=\"_parent\"><img src=\"https://colab.research.google.com/assets/colab-badge.svg\" alt=\"Open In Colab\"/></a>"
      ]
    },
    {
      "cell_type": "code",
      "metadata": {
        "colab": {
          "base_uri": "https://localhost:8080/"
        },
        "id": "0ZhFTMXnWTad",
        "outputId": "1ed51a5f-52e0-477b-8d97-7760f743fbd6"
      },
      "source": [
        "def ucln(a, b):\n",
        "    if (b == 0):\n",
        "        return a\n",
        "    return ucln(b, a % b)\n",
        "ucln(15,20)"
      ],
      "execution_count": 5,
      "outputs": [
        {
          "output_type": "execute_result",
          "data": {
            "text/plain": [
              "5"
            ]
          },
          "metadata": {
            "tags": []
          },
          "execution_count": 5
        }
      ]
    }
  ]
}