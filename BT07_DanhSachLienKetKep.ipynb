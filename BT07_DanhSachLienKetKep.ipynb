{
  "nbformat": 4,
  "nbformat_minor": 0,
  "metadata": {
    "colab": {
      "name": "BT07_DanhSachLienKetKep.ipynb",
      "provenance": [],
      "authorship_tag": "ABX9TyOOdvb5qT6D5LJaJ8FzINWq",
      "include_colab_link": true
    },
    "kernelspec": {
      "name": "python3",
      "display_name": "Python 3"
    },
    "language_info": {
      "name": "python"
    }
  },
  "cells": [
    {
      "cell_type": "markdown",
      "metadata": {
        "id": "view-in-github",
        "colab_type": "text"
      },
      "source": [
        "<a href=\"https://colab.research.google.com/github/khoa2210/CTDLGT_Python/blob/main/BT07_DanhSachLienKetKep.ipynb\" target=\"_parent\"><img src=\"https://colab.research.google.com/assets/colab-badge.svg\" alt=\"Open In Colab\"/></a>"
      ]
    },
    {
      "cell_type": "code",
      "metadata": {
        "id": "0ZhFTMXnWTad"
      },
      "source": [
        "class Node:\n",
        "    def __init__(self, next=None, prev=None, data=None):\n",
        "        self.next = next # reference to next node in DLL\n",
        "        self.prev = prev # reference to previous node in DLL\n",
        "        self.data = data\n",
        "\n",
        "class DoublyLinkedList:\n",
        "    def __init__(self):\n",
        "        self.start_node = None\n",
        "\n",
        "        def insert_in_emptylist(self, data):\n",
        "            if self.start_node is None:\n",
        "                new_node = Node(data)\n",
        "                self.start_node = new_node\n",
        "            else:\n",
        "                print(\"list is not empty\")"
      ],
      "execution_count": 32,
      "outputs": []
    }
  ]
}