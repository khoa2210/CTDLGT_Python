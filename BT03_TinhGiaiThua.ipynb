{
  "nbformat": 4,
  "nbformat_minor": 0,
  "metadata": {
    "colab": {
      "name": "BT03_TinhGiaiThua.ipynb",
      "provenance": [],
      "authorship_tag": "ABX9TyMqE+VnF8ggB8EiyFIQ8A2P",
      "include_colab_link": true
    },
    "kernelspec": {
      "name": "python3",
      "display_name": "Python 3"
    },
    "language_info": {
      "name": "python"
    }
  },
  "cells": [
    {
      "cell_type": "markdown",
      "metadata": {
        "id": "view-in-github",
        "colab_type": "text"
      },
      "source": [
        "<a href=\"https://colab.research.google.com/github/khoa2210/CTDLGT_Python/blob/main/BT03_TinhGiaiThua.ipynb\" target=\"_parent\"><img src=\"https://colab.research.google.com/assets/colab-badge.svg\" alt=\"Open In Colab\"/></a>"
      ]
    },
    {
      "cell_type": "code",
      "metadata": {
        "colab": {
          "base_uri": "https://localhost:8080/"
        },
        "id": "0ZhFTMXnWTad",
        "outputId": "912bb573-ceb7-4f5a-ad5f-6cad0d1bc62e"
      },
      "source": [
        "def tinhgiaithua(n):\n",
        "    giai_thua = 1;\n",
        "    if n < 0:\n",
        "        return ('Không tồn tại')\n",
        "    elif n == 0 or n == 1:\n",
        "        return giai_thua\n",
        "    else:\n",
        "        for i in range(2, n + 1):\n",
        "            giai_thua = giai_thua * i\n",
        "        return giai_thua\n",
        "\n",
        "\n",
        "n = int(input(\"Nhập số nguyên dương n = \"))\n",
        "print(\"Giai thừa của\", n, \"là\", tinhgiaithua(n))"
      ],
      "execution_count": 6,
      "outputs": [
        {
          "output_type": "stream",
          "text": [
            "Nhập số nguyên dương n = 3\n",
            "Giai thừa của 3 là 6\n"
          ],
          "name": "stdout"
        }
      ]
    }
  ]
}