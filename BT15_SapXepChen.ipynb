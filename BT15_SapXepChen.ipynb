{
  "nbformat": 4,
  "nbformat_minor": 0,
  "metadata": {
    "colab": {
      "name": "BT15_SapXepChen.ipynb",
      "provenance": [],
      "authorship_tag": "ABX9TyPzQ/4quVnKLoIiz5fKu8h0",
      "include_colab_link": true
    },
    "kernelspec": {
      "name": "python3",
      "display_name": "Python 3"
    },
    "language_info": {
      "name": "python"
    }
  },
  "cells": [
    {
      "cell_type": "markdown",
      "metadata": {
        "id": "view-in-github",
        "colab_type": "text"
      },
      "source": [
        "<a href=\"https://colab.research.google.com/github/khoa2210/CTDLGT_Python/blob/main/BT15_SapXepChen.ipynb\" target=\"_parent\"><img src=\"https://colab.research.google.com/assets/colab-badge.svg\" alt=\"Open In Colab\"/></a>"
      ]
    },
    {
      "cell_type": "code",
      "metadata": {
        "colab": {
          "base_uri": "https://localhost:8080/"
        },
        "id": "0ZhFTMXnWTad",
        "outputId": "2d128f41-7866-4acf-cd52-63b134e9af40"
      },
      "source": [
        "def insertion_sort(InputList):\n",
        "    for i in range(1, len(InputList)):\n",
        "        j = i - 1\n",
        "        nxt_element = InputList[i]\n",
        "        # Compare the current element with next one\n",
        "\n",
        "        while (InputList[j] > nxt_element) and (j >= 0):\n",
        "            InputList[j + 1] = InputList[j]\n",
        "            j = j - 1\n",
        "        InputList[j + 1] = nxt_element\n",
        "\n",
        "\n",
        "list = [19, 2, 31, 45, 30, 11, 121, 27]\n",
        "insertion_sort(list)\n",
        "print(list)"
      ],
      "execution_count": 53,
      "outputs": [
        {
          "output_type": "stream",
          "text": [
            "[2, 11, 19, 27, 30, 31, 45, 121]\n"
          ],
          "name": "stdout"
        }
      ]
    }
  ]
}