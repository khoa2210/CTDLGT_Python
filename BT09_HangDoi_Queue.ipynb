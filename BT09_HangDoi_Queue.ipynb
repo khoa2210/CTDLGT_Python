{
  "nbformat": 4,
  "nbformat_minor": 0,
  "metadata": {
    "colab": {
      "name": "BT09_HangDoi_Queue.ipynb",
      "provenance": [],
      "authorship_tag": "ABX9TyN4KnuUgJNPDyZ5qH5XD1Sp",
      "include_colab_link": true
    },
    "kernelspec": {
      "name": "python3",
      "display_name": "Python 3"
    },
    "language_info": {
      "name": "python"
    }
  },
  "cells": [
    {
      "cell_type": "markdown",
      "metadata": {
        "id": "view-in-github",
        "colab_type": "text"
      },
      "source": [
        "<a href=\"https://colab.research.google.com/github/khoa2210/CTDLGT_Python/blob/main/BT09_HangDoi_Queue.ipynb\" target=\"_parent\"><img src=\"https://colab.research.google.com/assets/colab-badge.svg\" alt=\"Open In Colab\"/></a>"
      ]
    },
    {
      "cell_type": "code",
      "metadata": {
        "colab": {
          "base_uri": "https://localhost:8080/"
        },
        "id": "0ZhFTMXnWTad",
        "outputId": "6364ea65-e807-4b2c-f610-35414528b2f6"
      },
      "source": [
        "from queue import Queue\n",
        " \n",
        "# Initializing a queue\n",
        "q = Queue(maxsize = 3)\n",
        " \n",
        "# qsize() give the maxsize\n",
        "# of the Queue\n",
        "print(q.qsize())\n",
        " \n",
        "# Adding of element to queue\n",
        "q.put('a')\n",
        "q.put('b')\n",
        "q.put('c')\n",
        " \n",
        "# Return Boolean for Full\n",
        "# Queue\n",
        "print(\"\\nFull: \", q.full())\n",
        " \n",
        "# Removing element from queue\n",
        "print(\"\\nElements dequeued from the queue\")\n",
        "print(q.get())\n",
        "print(q.get())\n",
        "print(q.get())\n",
        " \n",
        "# Return Boolean for Empty\n",
        "# Queue\n",
        "print(\"\\nEmpty: \", q.empty())\n",
        " \n",
        "q.put(1)\n",
        "print(\"\\nEmpty: \", q.empty())\n",
        "print(\"Full: \", q.full())"
      ],
      "execution_count": 40,
      "outputs": [
        {
          "output_type": "stream",
          "text": [
            "0\n",
            "\n",
            "Full:  True\n",
            "\n",
            "Elements dequeued from the queue\n",
            "a\n",
            "b\n",
            "c\n",
            "\n",
            "Empty:  True\n",
            "\n",
            "Empty:  False\n",
            "Full:  False\n"
          ],
          "name": "stdout"
        }
      ]
    }
  ]
}