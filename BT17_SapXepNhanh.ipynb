{
  "nbformat": 4,
  "nbformat_minor": 0,
  "metadata": {
    "colab": {
      "name": "BT17_SapXepNhanh.ipynb",
      "provenance": [],
      "authorship_tag": "ABX9TyONKqgrgOLA0KOQAyaaUy5d",
      "include_colab_link": true
    },
    "kernelspec": {
      "name": "python3",
      "display_name": "Python 3"
    },
    "language_info": {
      "name": "python"
    }
  },
  "cells": [
    {
      "cell_type": "markdown",
      "metadata": {
        "id": "view-in-github",
        "colab_type": "text"
      },
      "source": [
        "<a href=\"https://colab.research.google.com/github/khoa2210/CTDLGT_Python/blob/main/BT17_SapXepNhanh.ipynb\" target=\"_parent\"><img src=\"https://colab.research.google.com/assets/colab-badge.svg\" alt=\"Open In Colab\"/></a>"
      ]
    },
    {
      "cell_type": "code",
      "metadata": {
        "colab": {
          "base_uri": "https://localhost:8080/"
        },
        "id": "0ZhFTMXnWTad",
        "outputId": "08c4411e-2884-4496-e341-57bf6335755d"
      },
      "source": [
        "# Quick Sort \n",
        "def partition(arr, low, high):\n",
        "    i = (low-1)         \n",
        "    pivot = arr[high]    \n",
        "    for j in range(low, high):\n",
        "        if arr[j] <= pivot:\n",
        "            i = i+1\n",
        "            arr[i], arr[j] = arr[j], arr[i]\n",
        "    arr[i+1], arr[high] = arr[high], arr[i+1]\n",
        "    return (i+1)\n",
        "\n",
        "\n",
        "def quickSort(arr, low, high):\n",
        "    if len(arr) == 1:\n",
        "        return arr\n",
        "    if low < high:\n",
        "        pi = partition(arr, low, high)\n",
        "        quickSort(arr, low, pi-1)\n",
        "        quickSort(arr, pi+1, high)\n",
        "  \n",
        "\n",
        "arr = [19,2,31,45,6,11,121,27]\n",
        "n = len(arr)\n",
        "quickSort(arr, 0, n-1)\n",
        "\n",
        "x = []\n",
        "for i in range(n):\n",
        "    x.append(arr[i])\n",
        "print(\"Sorted array is:\",x)"
      ],
      "execution_count": 51,
      "outputs": [
        {
          "output_type": "stream",
          "text": [
            "Sorted array is: [2, 6, 11, 19, 27, 31, 45, 121]\n"
          ],
          "name": "stdout"
        }
      ]
    }
  ]
}