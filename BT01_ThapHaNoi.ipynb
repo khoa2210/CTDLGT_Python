{
  "nbformat": 4,
  "nbformat_minor": 0,
  "metadata": {
    "colab": {
      "name": "BT01_ThapHaNoi.ipynb",
      "provenance": [],
      "authorship_tag": "ABX9TyOz0LJBcYNq1DEGjpequVl2",
      "include_colab_link": true
    },
    "kernelspec": {
      "name": "python3",
      "display_name": "Python 3"
    },
    "language_info": {
      "name": "python"
    }
  },
  "cells": [
    {
      "cell_type": "markdown",
      "metadata": {
        "id": "view-in-github",
        "colab_type": "text"
      },
      "source": [
        "<a href=\"https://colab.research.google.com/github/khoa2210/CTDLGT_Python/blob/main/BT01_ThapHaNoi.ipynb\" target=\"_parent\"><img src=\"https://colab.research.google.com/assets/colab-badge.svg\" alt=\"Open In Colab\"/></a>"
      ]
    },
    {
      "cell_type": "code",
      "metadata": {
        "id": "0ZhFTMXnWTad"
      },
      "source": [
        "def thapHaNoi(n, toaMot, toaHai, toaBa):\n",
        "\n",
        "    if n == 1:\n",
        "        print(\"Chuyen tu\", toaMot, \"sang\", toaBa)\n",
        "    else:\n",
        "        thapHaNoi(n-1,toaMot,toaBa ,toaHai)\n",
        "        print(\"Chuyen tu\", toaMot, \"sang\", toaBa)\n",
        "        thapHaNoi(n-1,toaHai,toaMot, toaBa)"
      ],
      "execution_count": 1,
      "outputs": []
    },
    {
      "cell_type": "code",
      "metadata": {
        "colab": {
          "base_uri": "https://localhost:8080/"
        },
        "id": "Ac6MgD_sXAK6",
        "outputId": "f6003312-2022-4abd-826b-79fefffb1c4d"
      },
      "source": [
        "thapHaNoi(3,'A','B','C')"
      ],
      "execution_count": 4,
      "outputs": [
        {
          "output_type": "stream",
          "text": [
            "Chuyen tu A sang C\n",
            "Chuyen tu A sang B\n",
            "Chuyen tu C sang B\n",
            "Chuyen tu A sang C\n",
            "Chuyen tu B sang A\n",
            "Chuyen tu B sang C\n",
            "Chuyen tu A sang C\n"
          ],
          "name": "stdout"
        }
      ]
    }
  ]
}