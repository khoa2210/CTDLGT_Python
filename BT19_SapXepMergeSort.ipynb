{
  "nbformat": 4,
  "nbformat_minor": 0,
  "metadata": {
    "colab": {
      "name": "BT19_SapXepMergeSort.ipynb",
      "provenance": [],
      "authorship_tag": "ABX9TyOAbreLwNbLwxTuYdSKXRDG",
      "include_colab_link": true
    },
    "kernelspec": {
      "name": "python3",
      "display_name": "Python 3"
    },
    "language_info": {
      "name": "python"
    }
  },
  "cells": [
    {
      "cell_type": "markdown",
      "metadata": {
        "id": "view-in-github",
        "colab_type": "text"
      },
      "source": [
        "<a href=\"https://colab.research.google.com/github/khoa2210/CTDLGT_Python/blob/main/BT19_SapXepMergeSort.ipynb\" target=\"_parent\"><img src=\"https://colab.research.google.com/assets/colab-badge.svg\" alt=\"Open In Colab\"/></a>"
      ]
    },
    {
      "cell_type": "code",
      "metadata": {
        "colab": {
          "base_uri": "https://localhost:8080/"
        },
        "id": "0ZhFTMXnWTad",
        "outputId": "c87de4b7-25e5-433d-fc07-e2558efa94cf"
      },
      "source": [
        "def mergeSort(arr):\n",
        "    if len(arr) > 1:\n",
        " \n",
        "         # Finding the mid of the array\n",
        "        mid = len(arr)//2\n",
        " \n",
        "        # Dividing the array elements\n",
        "        L = arr[:mid]\n",
        " \n",
        "        # into 2 halves\n",
        "        R = arr[mid:]\n",
        " \n",
        "        # Sorting the first half\n",
        "        mergeSort(L)\n",
        " \n",
        "        # Sorting the second half\n",
        "        mergeSort(R)\n",
        " \n",
        "        i = j = k = 0\n",
        " \n",
        "        # Copy data to temp arrays L[] and R[]\n",
        "        while i < len(L) and j < len(R):\n",
        "            if L[i] < R[j]:\n",
        "                arr[k] = L[i]\n",
        "                i += 1\n",
        "            else:\n",
        "                arr[k] = R[j]\n",
        "                j += 1\n",
        "            k += 1\n",
        " \n",
        "        # Checking if any element was left\n",
        "        while i < len(L):\n",
        "            arr[k] = L[i]\n",
        "            i += 1\n",
        "            k += 1\n",
        " \n",
        "        while j < len(R):\n",
        "            arr[k] = R[j]\n",
        "            j += 1\n",
        "            k += 1\n",
        " \n",
        "# Code to print the list\n",
        " \n",
        " \n",
        "def printList(arr):\n",
        "    for i in range(len(arr)):\n",
        "        print(arr[i], end=\" \")\n",
        "    print()\n",
        " \n",
        " \n",
        "# Driver Code\n",
        "if __name__ == '__main__':\n",
        "    arr = [19,2,31,45,6,11,121,27]\n",
        "    print(\"Given array is\", end=\"\\n\")\n",
        "    printList(arr)\n",
        "    mergeSort(arr)\n",
        "    print(\"Sorted array is: \", end=\"\\n\")\n",
        "    printList(arr)"
      ],
      "execution_count": 57,
      "outputs": [
        {
          "output_type": "stream",
          "text": [
            "Given array is\n",
            "19 2 31 45 6 11 121 27 \n",
            "Sorted array is: \n",
            "2 6 11 19 27 31 45 121 \n"
          ],
          "name": "stdout"
        }
      ]
    }
  ]
}